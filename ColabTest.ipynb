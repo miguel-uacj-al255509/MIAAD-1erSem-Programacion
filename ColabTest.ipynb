{
  "nbformat": 4,
  "nbformat_minor": 0,
  "metadata": {
    "colab": {
      "provenance": [],
      "mount_file_id": "1pcJP2Y2aPshFDoM0tneeYAGfHlQL0WDk",
      "authorship_tag": "ABX9TyOSLGAT/z5s1YoWXIXe4dKI",
      "include_colab_link": true
    },
    "kernelspec": {
      "name": "python3",
      "display_name": "Python 3"
    },
    "language_info": {
      "name": "python"
    }
  },
  "cells": [
    {
      "cell_type": "markdown",
      "metadata": {
        "id": "view-in-github",
        "colab_type": "text"
      },
      "source": [
        "<a href=\"https://colab.research.google.com/github/miguel-uacj-al255509/MIAAD-1erSem-Programacion/blob/main/ColabTest.ipynb\" target=\"_parent\"><img src=\"https://colab.research.google.com/assets/colab-badge.svg\" alt=\"Open In Colab\"/></a>"
      ]
    }
  ]
}